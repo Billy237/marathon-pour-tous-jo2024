{
 "cells": [
  {
   "cell_type": "markdown",
   "id": "6cdccd1e-a86a-4c40-8bbf-bd0936c9a78e",
   "metadata": {},
   "source": [
    "#### Marathon pour tous results scrapper"
   ]
  },
  {
   "cell_type": "code",
   "execution_count": 1,
   "id": "8b0ae5fe-3106-482c-a311-d94a7f576288",
   "metadata": {},
   "outputs": [],
   "source": [
    "import pandas as pd\n",
    "import requests"
   ]
  },
  {
   "cell_type": "code",
   "execution_count": 2,
   "id": "815c5886-b067-434a-9a7b-29ac58174d7a",
   "metadata": {},
   "outputs": [],
   "source": [
    "from bs4 import BeautifulSoup"
   ]
  },
  {
   "cell_type": "code",
   "execution_count": 35,
   "id": "c491576f-ce94-4ade-b3b3-bb64252ee973",
   "metadata": {},
   "outputs": [],
   "source": [
    "def get_participant_results(participant_number):\n",
    "# The URL to send the POST request to\n",
    "    url = \"https://paris-mpt.r.mikatiming.de/2024/?pid=search&pidp=tracking\"\n",
    "    \n",
    "    # Form data (you may need to add more fields depending on the actual form data)\n",
    "    form_data = {\n",
    "        'lang': 'EN_CAP',\n",
    "        'event': 'MPT',  # Replace with the actual name of the form field for the participant number\n",
    "        'startpage': 'start_responsive',\n",
    "        'search[start_no]': participant_number,\n",
    "        'submit':''        \n",
    "    }\n",
    "\n",
    "    # Headers (optional but often necessary to mimic a real browser request)\n",
    "    headers = {\n",
    "        'User-Agent': 'Mozilla/5.0 (Windows NT 10.0; Win64; x64) AppleWebKit/537.36 (KHTML, like Gecko) Chrome/91.0.4472.124 Safari/537.36',\n",
    "        'Content-Type': 'application/x-www-form-urlencoded'\n",
    "    }\n",
    "\n",
    "    # Send the POST request\n",
    "    response = requests.post(url, data = form_data,headers=headers)\n",
    "    response.raise_for_status()  # Raise an exception if the request was unsuccessful\n",
    "\n",
    "    #print(response.text)\n",
    "    # Parse the page content with BeautifulSoup\n",
    "    soup = BeautifulSoup(response.text, 'html.parser')\n",
    "\n",
    "    # Extract the required data\n",
    "    result_data = {}\n",
    "    \n",
    "    # Note: You need to inspect the actual HTML structure to find the correct tags and classes.\n",
    "    # These are placeholders and should be replaced with the actual selectors.\n",
    "    result_data['name'] = soup.find('td', class_='f-__fullname last').text.strip()\n",
    "    result_data['api_number'] = soup.find('td', class_='f-start_no_text').text.strip()\n",
    "    result_data['bib_number'] = participant_number\n",
    "    result_data['finish_time_brut'] = soup.find('td', class_='f-time_finish_brutto last').text.strip()\n",
    "    result_data['finish_time_net'] = soup.find('td', class_='f-time_finish_netto last').text.strip()\n",
    "    # Add more fields as needed\n",
    "\n",
    "    return result_data"
   ]
  },
  {
   "cell_type": "code",
   "execution_count": 36,
   "id": "b6a4aaf9-0708-4d93-a93e-94ccac30e388",
   "metadata": {},
   "outputs": [
    {
     "name": "stdout",
     "output_type": "stream",
     "text": [
      "{'name': 'TRONCHET, Anne-Sarah', 'api_number': '12345', 'bib_number': '12345', 'finish_time_brut': '06:40:07', 'finish_time_net': '05:39:25'}\n"
     ]
    }
   ],
   "source": [
    "# Example usage\n",
    "participant_number = '12345'\n",
    "result = get_participant_results(participant_number)\n",
    "print(result)"
   ]
  },
  {
   "cell_type": "code",
   "execution_count": null,
   "id": "cc7b3a13-699e-4d12-8678-38053a17066e",
   "metadata": {},
   "outputs": [],
   "source": []
  }
 ],
 "metadata": {
  "kernelspec": {
   "display_name": "Python 3 (ipykernel)",
   "language": "python",
   "name": "python3"
  },
  "language_info": {
   "codemirror_mode": {
    "name": "ipython",
    "version": 3
   },
   "file_extension": ".py",
   "mimetype": "text/x-python",
   "name": "python",
   "nbconvert_exporter": "python",
   "pygments_lexer": "ipython3",
   "version": "3.10.0"
  }
 },
 "nbformat": 4,
 "nbformat_minor": 5
}
